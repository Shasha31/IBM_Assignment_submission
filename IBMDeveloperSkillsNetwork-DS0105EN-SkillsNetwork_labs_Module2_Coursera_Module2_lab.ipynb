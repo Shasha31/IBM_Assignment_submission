{
  "metadata": {
    "language_info": {
      "codemirror_mode": {
        "name": "python",
        "version": 3
      },
      "file_extension": ".py",
      "mimetype": "text/x-python",
      "name": "python",
      "nbconvert_exporter": "python",
      "pygments_lexer": "ipython3",
      "version": "3.8"
    },
    "kernelspec": {
      "name": "python",
      "display_name": "Pyolite",
      "language": "python"
    }
  },
  "nbformat_minor": 4,
  "nbformat": 4,
  "cells": [
    {
      "cell_type": "markdown",
      "source": "# My Jupyter Notebook on IBM Watson Studio",
      "metadata": {}
    },
    {
      "cell_type": "markdown",
      "source": "**Varsha Tadwalkar** \\\nData Scientist",
      "metadata": {}
    },
    {
      "cell_type": "markdown",
      "source": "*I am interested in Data Science because, I am looking for changing my current field of FEA and I am able to put efforts in learning various Data Science related things without loosing interest.*",
      "metadata": {}
    },
    {
      "cell_type": "markdown",
      "source": "### The code in following cell prints if the given number is odd or even ",
      "metadata": {}
    },
    {
      "cell_type": "code",
      "source": "num = 4\n\ndef odd_even(num):\n    if num % 2 == 0:\n        print(\"Given number is an even number\")\n    else:\n        print(\"Given number is an odd number\")\nodd_even(num)",
      "metadata": {
        "trusted": true
      },
      "execution_count": 2,
      "outputs": [
        {
          "name": "stdout",
          "text": "Given number is an even number\n",
          "output_type": "stream"
        }
      ]
    },
    {
      "cell_type": "markdown",
      "source": "##### Horizontal rule ####\n\n-----\n3 or more hyphens\n*******\n3 or more Asteriks\n____\n3 or more underscores\n____\n\n##### Bulleted list ####\n\nBulleted lists can be made using\n* Asteric\n+ Plus\n- Minus\n\n\n##### Numbered list ######\nNumbered list can be made simply using numbers\n1. this is 1st\n2. this is 2nd\n3. last in the list\n\n##### Highlighting #####\n\nI am here to work `hard` to gain mastery over `Python` and `Data Science`.\n\n##### Strikethrough #####\n\nUse two tildes to ~~scratch this~~",
      "metadata": {}
    },
    {
      "cell_type": "code",
      "source": "",
      "metadata": {},
      "execution_count": null,
      "outputs": []
    }
  ]
}